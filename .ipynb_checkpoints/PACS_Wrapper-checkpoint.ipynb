{
 "cells": [
  {
   "cell_type": "code",
   "execution_count": 34,
   "id": "2707207a",
   "metadata": {},
   "outputs": [],
   "source": [
    "import requests\n",
    "from pydicom import dcmread\n",
    "from urllib3.filepost import encode_multipart_formdata, choose_boundary\n",
    "\n",
    "# # from os import listdir\n",
    "# # from os.path import isfile, join\n",
    "# # # import urllib\n",
    "# # # import logging\n",
    "\n",
    "# import json\n",
    "# import xmltodict\n",
    "# from bs4 import BeautifulSoup"
   ]
  },
  {
   "cell_type": "markdown",
   "id": "b37f37b8",
   "metadata": {},
   "source": [
    "### GLOBAL VARIABLES"
   ]
  },
  {
   "cell_type": "code",
   "execution_count": 13,
   "id": "9f1543a1",
   "metadata": {},
   "outputs": [],
   "source": [
    "metadata = {\n",
    "    'patient': {'00080050': 'Accession Number',\n",
    "        '00100010': 'Patient Name',\n",
    "        '00100020': 'Patient ID',\n",
    "        '00100030': 'Patient Birth Date',\n",
    "        '00100040': 'Patient Sex',\n",
    "        '00101010': 'Patient Age'},\n",
    "\n",
    "    'modality': {'00080060': 'Modality',\n",
    "                '00080070': 'Manufacturer',\n",
    "                '00080080': 'Institution Name',\n",
    "                '00080081': 'Institution Address',\n",
    "                '00081010': 'Station Name',\n",
    "                '00081070': 'Operator Name',\n",
    "                '00081090': 'Manufacturer Model Name',\n",
    "                '00181000': 'Device Serial Number',\n",
    "                '00181020': 'Software Version(s)',\n",
    "                '00181030': 'Protocol Name'},\n",
    "\n",
    "    'study': {'00180015': 'Body Part Examined',\n",
    "            '00080005': 'Specific Character Set',\n",
    "            '00080008': 'Image Type',\n",
    "            '00080016': 'SOP Class UID',\n",
    "            '00080020': 'Study Date',\n",
    "            '00080022': 'Acquisition Date',\n",
    "            '00080030': 'Study Time',\n",
    "            '00080032': 'Acquisition Time',\n",
    "            '00081030': 'Study Description',\n",
    "            '00080090': 'Referring Physician Name',\n",
    "            '00081050': 'Performing Physician Name',\n",
    "            '00200010': 'Study ID',\n",
    "            '00200012': 'Acquisition Number',\n",
    "            '00321060': 'Requested Procedure Description'},\n",
    "\n",
    "    'series': {'00080021': 'Series Date',\n",
    "            '00080031': 'Series Time',\n",
    "            '0008103E': 'Series Description',\n",
    "            '0020000E': 'Series Instance UID',\n",
    "            '00200011': 'Series Number'},\n",
    "\n",
    "    'instance': {'0020000D': 'Study Instance UID',\n",
    "                '00080018': 'SOP Instance UID',\n",
    "                '00080023': 'Content Date',\n",
    "                '00080033': 'Content Time',\n",
    "                '00082111': 'Derivation Description',\n",
    "                '00200013': 'Instance Number',\n",
    "                '00200032': 'Image Position (Patient)',\n",
    "                '00200037': 'Image Orientation (Patient)',\n",
    "                '00204000': 'Image Comments'}\n",
    "}\n",
    "\n",
    "META_REF = {}\n",
    "for group in metadata:\n",
    "    META_REF.update(metadata[group])"
   ]
  },
  {
   "cell_type": "markdown",
   "id": "3476508c",
   "metadata": {},
   "source": [
    "### HELPER FXNS"
   ]
  },
  {
   "cell_type": "code",
   "execution_count": 14,
   "id": "257c3af2",
   "metadata": {},
   "outputs": [],
   "source": [
    "def encode_multipart_related(fields, boundary=None):\n",
    "    if boundary is None:\n",
    "        boundary = choose_boundary()\n",
    "\n",
    "    body, _ = encode_multipart_formdata(fields, boundary)\n",
    "    content_type = str('multipart/related; boundary=%s' % boundary)\n",
    "    print(content_type)\n",
    "    return body, content_type"
   ]
  },
  {
   "cell_type": "code",
   "execution_count": 15,
   "id": "8678fd77",
   "metadata": {},
   "outputs": [],
   "source": [
    "def prepare_file(filepath, pacs_server):\n",
    "    with open(filepath,'rb') as reader:\n",
    "        rawfile = reader.read()\n",
    "\n",
    "#     rawfile = requests.get(filepath).content\n",
    "\n",
    "    files = {'file': ('dicomfile', rawfile, 'application/dicom')}\n",
    "    body, content_type = encode_multipart_related(fields = files)\n",
    "    headers = {\"Content-Type\":content_type}\n",
    "    if pacs_server == 'dcm4chee':headers['Accept'] = 'application/dicom+xml'\n",
    "    else: headers['Accept'] = 'application/dicom+json'\n",
    "\n",
    "    return body, headers"
   ]
  },
  {
   "cell_type": "code",
   "execution_count": 16,
   "id": "a872c27d",
   "metadata": {},
   "outputs": [],
   "source": [
    "def select_server(pacs_server):\n",
    "    available_pacs ={\n",
    "        'microsoft' :'https://xcelsolutions-msdicom.azurewebsites.net/v1.0-prerelease',\n",
    "        'dcm4chee':'http://20.185.24.194:8080/dcm4chee-arc/aets/DCM4CHEE/rs'\n",
    "    }\n",
    "    called_server = available_pacs[pacs_server] if pacs_server in available_pacs else available_pacs['microsoft']\n",
    "    return called_server"
   ]
  },
  {
   "cell_type": "code",
   "execution_count": 17,
   "id": "606629c0",
   "metadata": {},
   "outputs": [],
   "source": [
    "def get_uids(filepath):\n",
    "    uid_meta = dcmread(filepath)\n",
    "    uid_meta = {'study':uid_meta.StudyInstanceUID,\n",
    "        'series':uid_meta.SeriesInstanceUID,\n",
    "        'instance':uid_meta.SOPInstanceUID}\n",
    "    return uid_meta"
   ]
  },
  {
   "cell_type": "code",
   "execution_count": 18,
   "id": "f79a99f3",
   "metadata": {},
   "outputs": [],
   "source": [
    "def destructure_metadata(meta_value):\n",
    "    destructured_meta = ''\n",
    "    for val in meta_value:\n",
    "        if type(val) == str: destructured_meta = destructured_meta + val\n",
    "        elif type(val) == dict: destructured_meta = destructured_meta + val['Alphabetic']\n",
    "        else: \n",
    "            if len(meta_value) == 1: destructured_meta = val\n",
    "            else: destructured_meta = meta_value\n",
    "            break\n",
    "\n",
    "    return destructured_meta"
   ]
  },
  {
   "cell_type": "markdown",
   "id": "3a5e26f5",
   "metadata": {},
   "source": [
    "### PAYLOAD FXNS"
   ]
  },
  {
   "cell_type": "code",
   "execution_count": 19,
   "id": "e1d19e9b",
   "metadata": {},
   "outputs": [],
   "source": [
    "def get_new_instance_payload(pacs_response, pacs_server):\n",
    "    payload = {}\n",
    "    if pacs_server == 'dcm4chee':\n",
    "        xml_parser = BeautifulSoup(pacs_response.text, 'xml')\n",
    "        payload['ReferencedSOPClassUID'] = xml_parser.find('DicomAttribute', attrs ={'keyword':'ReferencedSOPClassUID'}).text\n",
    "        payload['ReferencedSOPInstanceUID'] = xml_parser.find('DicomAttribute', attrs ={'keyword':'ReferencedSOPInstanceUID'}).text\n",
    "        payload['RetrieveURL'] = xml_parser.find_all('DicomAttribute', attrs ={'keyword':\"RetrieveURL\"})[1].text\n",
    "        viewer_base =  \"http://20.185.24.194:1234/viewer/\"\n",
    "    else:\n",
    "        pacs_json = pacs_response.json()\n",
    "        payload['ReferencedSOPClassUID'] = pacs_json['00081199']['Value'][0]['00081150']['Value'][0]\n",
    "        payload['ReferencedSOPInstanceUID'] = pacs_json['00081199']['Value'][0]['00081155']['Value'][0]\n",
    "        payload['RetrieveURL'] = pacs_json['00081199']['Value'][0]['00081190']['Value'][0]\n",
    "        viewer_base =  \"https://xcelsolutions-msdicom.azurewebsites.net/viewer/\"\n",
    "        \n",
    "    payload['studyUID'] = payload['RetrieveURL'].split('studies')[1].split('/')[1]\n",
    "    payload['seriesUID']  = payload['RetrieveURL'].split('series')[1].split('/')[1]\n",
    "    payload['instanceUID']  = payload['RetrieveURL'].split('instances')[1].split('/')[1]\n",
    "    payload['viewer_link']  = viewer_base + payload['studyUID']\n",
    "    \n",
    "    return payload"
   ]
  },
  {
   "cell_type": "code",
   "execution_count": 20,
   "id": "0337ccff",
   "metadata": {},
   "outputs": [],
   "source": [
    "def get_metadata_payload(pacs_response):\n",
    "    pacs_json = pacs_response.json()[0]\n",
    "    payload = {}\n",
    "    for metadata_key in metadata:\n",
    "        payload[metadata_key] = {}\n",
    "        for metadata_field in metadata[metadata_key]:\n",
    "            if metadata_field in pacs_json:\n",
    "                root = pacs_json[metadata_field]\n",
    "                payload[metadata_key][META_REF[metadata_field]] = destructure_metadata(root['Value']) if 'Value' in root else None\n",
    "            else:\n",
    "                payload[metadata_key][META_REF[metadata_field]] = None\n",
    "\n",
    "    return payload"
   ]
  },
  {
   "cell_type": "markdown",
   "id": "75d7c287",
   "metadata": {},
   "source": [
    "### API CALLS"
   ]
  },
  {
   "cell_type": "code",
   "execution_count": 40,
   "id": "793c6683",
   "metadata": {},
   "outputs": [],
   "source": [
    "def communicate_with_pacs(operation, params={}, mode='OR', server_list=['microsoft','dcm4chee']):\n",
    "    if operation == 'metadata':\n",
    "        for pacs_server in server_list:\n",
    "            pacs_comm = get_metadata(params['type'], params['args'], pacs_server, payload=False)\n",
    "            print(operation, {'type': params['type'], 'pacs_server': pacs_server,'flag': pacs_comm})\n",
    "            \n",
    "            if pacs_comm == 'true':\n",
    "                return {'pacs_server': pacs_server,\n",
    "                       'flag': pacs_comm}\n",
    "            \n",
    "        return {'pacs_server': None,\n",
    "                'flag': 'unavailable'}\n",
    "    \n",
    "    if operation == 'upload':\n",
    "        for pacs_server in server_list:\n",
    "            if 'args' in params: pacs_comm = upload_study(params['filepath'], pacs_server, study_uid=params['args'])\n",
    "            else: pacs_comm = upload_study(params['filepath'], pacs_server)\n",
    "            \n",
    "            print(operation, {'pacs_server': pacs_server,'flag': pacs_comm['flag']})\n",
    "            \n",
    "            if pacs_comm['flag'] == 'true':\n",
    "                payload = {'pacs_server': pacs_server}\n",
    "                payload.update(pacs_comm['response'])\n",
    "                return payload\n",
    "            \n",
    "        return {'pacs_server': None,\n",
    "                'payload': None}\n",
    "    \n",
    "    return"
   ]
  },
  {
   "cell_type": "code",
   "execution_count": 22,
   "id": "4e7024df",
   "metadata": {},
   "outputs": [],
   "source": [
    "def get_metadata(meta_type, params, pacs_server, payload=True):\n",
    "    BASE_URL = select_server(pacs_server)\n",
    "    \n",
    "    url = f\"{BASE_URL}/studies/{params['study']}\"    \n",
    "    if meta_type == 'series':\n",
    "        url = url + f\"/series/{params['series']}\"\n",
    "    elif meta_type == 'instance':\n",
    "        url = url + f\"/series/{params['series']}/instances/{params['instance']}\"\n",
    "    url = url + '/metadata'\n",
    "    \n",
    "    \n",
    "    headers = {\"Accept\": \"application/dicom+json\"}\n",
    "    client = requests.session()\n",
    "    client_response = client.get(url, headers=headers, verify=False)\n",
    "    \n",
    "    if client_response.status_code == 200:\n",
    "        if payload:\n",
    "            meta_payload = get_metadata_payload(client_response)\n",
    "            return meta_payload\n",
    "        return 'true'\n",
    "    elif client_response.status_code == 404: return 'false'\n",
    "    else: \n",
    "        print('ERROR: ',client_response.status_code,' ==> ', client_response.text)\n",
    "        return 'error'"
   ]
  },
  {
   "cell_type": "code",
   "execution_count": 36,
   "id": "7ce83a72",
   "metadata": {},
   "outputs": [],
   "source": [
    "def upload_study(filepath, pacs_server, study_uid=None):\n",
    "    body, headers = prepare_file(filepath, pacs_server)\n",
    "    BASE_URL = select_server(pacs_server)\n",
    "    url = f'{BASE_URL}/studies'\n",
    "    if study_uid: url = f'{BASE_URL}/studies{study_uid}'\n",
    "    else: url = f'{BASE_URL}/studies'\n",
    "    \n",
    "    client = requests.session()\n",
    "    client_response = client.post(url, body, headers=headers, verify=False)\n",
    "    \n",
    "    if client_response.status_code == 200:\n",
    "        new_instance_meta = get_new_instance_payload(client_response, pacs_server)\n",
    "        \n",
    "        params = {'study':new_instance_meta['studyUID'],\n",
    "                'series':new_instance_meta['seriesUID'],\n",
    "                'instance':new_instance_meta['instanceUID']}\n",
    "        instance_meta = get_metadata('instance', params, pacs_server, payload=True)\n",
    "        \n",
    "        new_instance_meta.update(instance_meta)\n",
    "        \n",
    "        return {'flag':'true', 'response': new_instance_meta}\n",
    "    else:\n",
    "        print('ERROR: ',client_response.status_code,' ==> ', client_response.text, ' ===> ', client_response.reason)\n",
    "        return {'flag':'false', 'response': client_response.text}"
   ]
  },
  {
   "cell_type": "markdown",
   "id": "976a0b94",
   "metadata": {},
   "source": [
    "### PREPROCESSING"
   ]
  },
  {
   "cell_type": "code",
   "execution_count": 38,
   "id": "790e144a",
   "metadata": {},
   "outputs": [],
   "source": [
    "def upload_preprocessing(filepath):\n",
    "    dcm_meta = get_uids(filepath)\n",
    "    is_instance_exists = communicate_with_pacs('metadata',\n",
    "                                            params={'type': 'instance', 'args':dcm_meta})\n",
    "    print(is_instance_exists)\n",
    "    if is_instance_exists['flag'] == 'true':\n",
    "        return 'error: image already exists'\n",
    "    elif is_instance_exists['flag'] == 'unavailable':\n",
    "        is_study_exists = communicate_with_pacs('metadata',\n",
    "                                                params={'type': 'study','args':dcm_meta})\n",
    "        print(is_study_exists)\n",
    "        \n",
    "        if is_study_exists['flag'] == 'true':\n",
    "            print('updating study', dcm_meta['study'])\n",
    "            update_study = communicate_with_pacs('upload',\n",
    "                                                params={'filepath': filepath},\n",
    "                                                server_list=[is_study_exists['pacs_server']])\n",
    "            print(update_study)\n",
    "            return update_study\n",
    "        elif is_study_exists['flag'] == 'unavailable':\n",
    "            print('uploading new study')\n",
    "            new_study = communicate_with_pacs('upload',\n",
    "                                                params={'filepath': filepath})\n",
    "            print(new_study)\n",
    "            return new_study\n",
    "        else:\n",
    "            print('error somewhere')\n",
    "\n",
    "    else:\n",
    "        print('error somewhere')"
   ]
  },
  {
   "cell_type": "code",
   "execution_count": null,
   "id": "558fb6ee",
   "metadata": {},
   "outputs": [],
   "source": []
  },
  {
   "cell_type": "code",
   "execution_count": null,
   "id": "c49a780f",
   "metadata": {},
   "outputs": [],
   "source": []
  },
  {
   "cell_type": "code",
   "execution_count": null,
   "id": "569db47e",
   "metadata": {},
   "outputs": [],
   "source": []
  },
  {
   "cell_type": "code",
   "execution_count": 25,
   "id": "d1448546",
   "metadata": {},
   "outputs": [
    {
     "name": "stderr",
     "output_type": "stream",
     "text": [
      "C:\\Users\\user\\anaconda3\\lib\\site-packages\\urllib3\\connectionpool.py:1013: InsecureRequestWarning: Unverified HTTPS request is being made to host 'xcelsolutions-msdicom.azurewebsites.net'. Adding certificate verification is strongly advised. See: https://urllib3.readthedocs.io/en/latest/advanced-usage.html#ssl-warnings\n",
      "  warnings.warn(\n"
     ]
    },
    {
     "name": "stdout",
     "output_type": "stream",
     "text": [
      "metadata {'type': 'instance', 'pacs_server': 'microsoft', 'flag': 'true'}\n",
      "{'pacs_server': 'microsoft', 'flag': 'true'}\n"
     ]
    },
    {
     "data": {
      "text/plain": [
       "'error: image already exists'"
      ]
     },
     "execution_count": 25,
     "metadata": {},
     "output_type": "execute_result"
    }
   ],
   "source": [
    "upload_preprocessing(r'C:\\Users\\user\\Desktop\\xcel\\sample_dicom\\0AAEECA3')"
   ]
  },
  {
   "cell_type": "code",
   "execution_count": 39,
   "id": "153406e4",
   "metadata": {},
   "outputs": [
    {
     "name": "stderr",
     "output_type": "stream",
     "text": [
      "C:\\Users\\user\\anaconda3\\lib\\site-packages\\urllib3\\connectionpool.py:1013: InsecureRequestWarning: Unverified HTTPS request is being made to host 'xcelsolutions-msdicom.azurewebsites.net'. Adding certificate verification is strongly advised. See: https://urllib3.readthedocs.io/en/latest/advanced-usage.html#ssl-warnings\n",
      "  warnings.warn(\n"
     ]
    },
    {
     "name": "stdout",
     "output_type": "stream",
     "text": [
      "metadata {'type': 'instance', 'pacs_server': 'microsoft', 'flag': 'false'}\n",
      "metadata {'type': 'instance', 'pacs_server': 'dcm4chee', 'flag': 'false'}\n",
      "{'pacs_server': None, 'flag': 'unavailable'}\n"
     ]
    },
    {
     "name": "stderr",
     "output_type": "stream",
     "text": [
      "C:\\Users\\user\\anaconda3\\lib\\site-packages\\urllib3\\connectionpool.py:1013: InsecureRequestWarning: Unverified HTTPS request is being made to host 'xcelsolutions-msdicom.azurewebsites.net'. Adding certificate verification is strongly advised. See: https://urllib3.readthedocs.io/en/latest/advanced-usage.html#ssl-warnings\n",
      "  warnings.warn(\n"
     ]
    },
    {
     "name": "stdout",
     "output_type": "stream",
     "text": [
      "metadata {'type': 'study', 'pacs_server': 'microsoft', 'flag': 'true'}\n",
      "{'pacs_server': 'microsoft', 'flag': 'true'}\n",
      "updating study 2.25.35760069254720387342451950708345649211\n",
      "multipart/related; boundary=97c962a49e0130f612a4c25526227e5d\n"
     ]
    },
    {
     "name": "stderr",
     "output_type": "stream",
     "text": [
      "C:\\Users\\user\\anaconda3\\lib\\site-packages\\urllib3\\connectionpool.py:1013: InsecureRequestWarning: Unverified HTTPS request is being made to host 'xcelsolutions-msdicom.azurewebsites.net'. Adding certificate verification is strongly advised. See: https://urllib3.readthedocs.io/en/latest/advanced-usage.html#ssl-warnings\n",
      "  warnings.warn(\n",
      "C:\\Users\\user\\anaconda3\\lib\\site-packages\\urllib3\\connectionpool.py:1013: InsecureRequestWarning: Unverified HTTPS request is being made to host 'xcelsolutions-msdicom.azurewebsites.net'. Adding certificate verification is strongly advised. See: https://urllib3.readthedocs.io/en/latest/advanced-usage.html#ssl-warnings\n",
      "  warnings.warn(\n"
     ]
    },
    {
     "name": "stdout",
     "output_type": "stream",
     "text": [
      "upload {'pacs_server': 'microsoft', 'flag': 'true'}\n",
      "{'pacs_server': 'microsoft', 'payload': {'ReferencedSOPClassUID': '1.2.840.10008.5.1.4.1.1.2', 'ReferencedSOPInstanceUID': '2.25.73537466221022864722942199441410844093', 'RetrieveURL': 'https://xcelsolutions-msdicom.azurewebsites.net/v1.0-prerelease/studies/2.25.35760069254720387342451950708345649211/series/2.25.259914270982574136244245260820376398122/instances/2.25.73537466221022864722942199441410844093', 'studyUID': '2.25.35760069254720387342451950708345649211', 'seriesUID': '2.25.259914270982574136244245260820376398122', 'instanceUID': '2.25.73537466221022864722942199441410844093', 'viewer_link': 'https://xcelsolutions-msdicom.azurewebsites.net/viewer/2.25.35760069254720387342451950708345649211', 'patient': {'Accession Number': 'GE000301', 'Patient Name': 'CT Head Bleed Test', 'Patient ID': 'GE000031', 'Patient Birth Date': '19490702', 'Patient Sex': 'M', 'Patient Age': None}, 'modality': {'Modality': 'CT', 'Manufacturer': None, 'Institution Name': None, 'Institution Address': None, 'Station Name': None, 'Operator Name': None, 'Manufacturer Model Name': None, 'Device Serial Number': None, 'Software Version(s)': None, 'Protocol Name': None}, 'study': {'Body Part Examined': 'HEAD', 'Specific Character Set': 'ISO_IR 192', 'Image Type': 'ORIGINALPRIMARYAXIALCT_SOM5 SPI', 'SOP Class UID': '1.2.840.10008.5.1.4.1.1.2', 'Study Date': '20190502', 'Acquisition Date': '20190502', 'Study Time': '073606.647000', 'Acquisition Time': '073920.946000', 'Study Description': 'CT Head', 'Referring Physician Name': None, 'Performing Physician Name': None, 'Study ID': None, 'Acquisition Number': 2, 'Requested Procedure Description': None}, 'series': {'Series Date': '20190502', 'Series Time': '073932.183000', 'Series Description': None, 'Series Instance UID': '2.25.259914270982574136244245260820376398122', 'Series Number': 2}, 'instance': {'Study Instance UID': '2.25.35760069254720387342451950708345649211', 'SOP Instance UID': '2.25.73537466221022864722942199441410844093', 'Content Date': None, 'Content Time': None, 'Derivation Description': None, 'Instance Number': 21, 'Image Position (Patient)': [-113.77734375, -306.79895592178, 111.98867818712], 'Image Orientation (Patient)': [1, 0, 0, 0, 0.98628560153723, -0.1650476058607], 'Image Comments': None}}}\n"
     ]
    },
    {
     "data": {
      "text/plain": [
       "{'pacs_server': 'microsoft',\n",
       " 'payload': {'ReferencedSOPClassUID': '1.2.840.10008.5.1.4.1.1.2',\n",
       "  'ReferencedSOPInstanceUID': '2.25.73537466221022864722942199441410844093',\n",
       "  'RetrieveURL': 'https://xcelsolutions-msdicom.azurewebsites.net/v1.0-prerelease/studies/2.25.35760069254720387342451950708345649211/series/2.25.259914270982574136244245260820376398122/instances/2.25.73537466221022864722942199441410844093',\n",
       "  'studyUID': '2.25.35760069254720387342451950708345649211',\n",
       "  'seriesUID': '2.25.259914270982574136244245260820376398122',\n",
       "  'instanceUID': '2.25.73537466221022864722942199441410844093',\n",
       "  'viewer_link': 'https://xcelsolutions-msdicom.azurewebsites.net/viewer/2.25.35760069254720387342451950708345649211',\n",
       "  'patient': {'Accession Number': 'GE000301',\n",
       "   'Patient Name': 'CT Head Bleed Test',\n",
       "   'Patient ID': 'GE000031',\n",
       "   'Patient Birth Date': '19490702',\n",
       "   'Patient Sex': 'M',\n",
       "   'Patient Age': None},\n",
       "  'modality': {'Modality': 'CT',\n",
       "   'Manufacturer': None,\n",
       "   'Institution Name': None,\n",
       "   'Institution Address': None,\n",
       "   'Station Name': None,\n",
       "   'Operator Name': None,\n",
       "   'Manufacturer Model Name': None,\n",
       "   'Device Serial Number': None,\n",
       "   'Software Version(s)': None,\n",
       "   'Protocol Name': None},\n",
       "  'study': {'Body Part Examined': 'HEAD',\n",
       "   'Specific Character Set': 'ISO_IR 192',\n",
       "   'Image Type': 'ORIGINALPRIMARYAXIALCT_SOM5 SPI',\n",
       "   'SOP Class UID': '1.2.840.10008.5.1.4.1.1.2',\n",
       "   'Study Date': '20190502',\n",
       "   'Acquisition Date': '20190502',\n",
       "   'Study Time': '073606.647000',\n",
       "   'Acquisition Time': '073920.946000',\n",
       "   'Study Description': 'CT Head',\n",
       "   'Referring Physician Name': None,\n",
       "   'Performing Physician Name': None,\n",
       "   'Study ID': None,\n",
       "   'Acquisition Number': 2,\n",
       "   'Requested Procedure Description': None},\n",
       "  'series': {'Series Date': '20190502',\n",
       "   'Series Time': '073932.183000',\n",
       "   'Series Description': None,\n",
       "   'Series Instance UID': '2.25.259914270982574136244245260820376398122',\n",
       "   'Series Number': 2},\n",
       "  'instance': {'Study Instance UID': '2.25.35760069254720387342451950708345649211',\n",
       "   'SOP Instance UID': '2.25.73537466221022864722942199441410844093',\n",
       "   'Content Date': None,\n",
       "   'Content Time': None,\n",
       "   'Derivation Description': None,\n",
       "   'Instance Number': 21,\n",
       "   'Image Position (Patient)': [-113.77734375,\n",
       "    -306.79895592178,\n",
       "    111.98867818712],\n",
       "   'Image Orientation (Patient)': [1,\n",
       "    0,\n",
       "    0,\n",
       "    0,\n",
       "    0.98628560153723,\n",
       "    -0.1650476058607],\n",
       "   'Image Comments': None}}}"
      ]
     },
     "execution_count": 39,
     "metadata": {},
     "output_type": "execute_result"
    }
   ],
   "source": [
    "upload_preprocessing(r'C:\\Users\\user\\Desktop\\xcel\\sample_dicom\\0C7184D4')"
   ]
  },
  {
   "cell_type": "code",
   "execution_count": 41,
   "id": "5c9748eb",
   "metadata": {},
   "outputs": [
    {
     "name": "stderr",
     "output_type": "stream",
     "text": [
      "C:\\Users\\user\\anaconda3\\lib\\site-packages\\urllib3\\connectionpool.py:1013: InsecureRequestWarning: Unverified HTTPS request is being made to host 'xcelsolutions-msdicom.azurewebsites.net'. Adding certificate verification is strongly advised. See: https://urllib3.readthedocs.io/en/latest/advanced-usage.html#ssl-warnings\n",
      "  warnings.warn(\n"
     ]
    },
    {
     "name": "stdout",
     "output_type": "stream",
     "text": [
      "metadata {'type': 'instance', 'pacs_server': 'microsoft', 'flag': 'false'}\n",
      "metadata {'type': 'instance', 'pacs_server': 'dcm4chee', 'flag': 'false'}\n",
      "{'pacs_server': None, 'flag': 'unavailable'}\n"
     ]
    },
    {
     "name": "stderr",
     "output_type": "stream",
     "text": [
      "C:\\Users\\user\\anaconda3\\lib\\site-packages\\urllib3\\connectionpool.py:1013: InsecureRequestWarning: Unverified HTTPS request is being made to host 'xcelsolutions-msdicom.azurewebsites.net'. Adding certificate verification is strongly advised. See: https://urllib3.readthedocs.io/en/latest/advanced-usage.html#ssl-warnings\n",
      "  warnings.warn(\n"
     ]
    },
    {
     "name": "stdout",
     "output_type": "stream",
     "text": [
      "metadata {'type': 'study', 'pacs_server': 'microsoft', 'flag': 'true'}\n",
      "{'pacs_server': 'microsoft', 'flag': 'true'}\n",
      "updating study 2.25.35760069254720387342451950708345649211\n",
      "multipart/related; boundary=abcca7d37c4fc3f2f766183492bf77ca\n"
     ]
    },
    {
     "name": "stderr",
     "output_type": "stream",
     "text": [
      "C:\\Users\\user\\anaconda3\\lib\\site-packages\\urllib3\\connectionpool.py:1013: InsecureRequestWarning: Unverified HTTPS request is being made to host 'xcelsolutions-msdicom.azurewebsites.net'. Adding certificate verification is strongly advised. See: https://urllib3.readthedocs.io/en/latest/advanced-usage.html#ssl-warnings\n",
      "  warnings.warn(\n",
      "C:\\Users\\user\\anaconda3\\lib\\site-packages\\urllib3\\connectionpool.py:1013: InsecureRequestWarning: Unverified HTTPS request is being made to host 'xcelsolutions-msdicom.azurewebsites.net'. Adding certificate verification is strongly advised. See: https://urllib3.readthedocs.io/en/latest/advanced-usage.html#ssl-warnings\n",
      "  warnings.warn(\n"
     ]
    },
    {
     "name": "stdout",
     "output_type": "stream",
     "text": [
      "upload {'pacs_server': 'microsoft', 'flag': 'true'}\n",
      "{'pacs_server': 'microsoft', 'ReferencedSOPClassUID': '1.2.840.10008.5.1.4.1.1.2', 'ReferencedSOPInstanceUID': '2.25.9345764094632595188893736378797587487', 'RetrieveURL': 'https://xcelsolutions-msdicom.azurewebsites.net/v1.0-prerelease/studies/2.25.35760069254720387342451950708345649211/series/2.25.259914270982574136244245260820376398122/instances/2.25.9345764094632595188893736378797587487', 'studyUID': '2.25.35760069254720387342451950708345649211', 'seriesUID': '2.25.259914270982574136244245260820376398122', 'instanceUID': '2.25.9345764094632595188893736378797587487', 'viewer_link': 'https://xcelsolutions-msdicom.azurewebsites.net/viewer/2.25.35760069254720387342451950708345649211', 'patient': {'Accession Number': 'GE000301', 'Patient Name': 'CT Head Bleed Test', 'Patient ID': 'GE000031', 'Patient Birth Date': '19490702', 'Patient Sex': 'M', 'Patient Age': None}, 'modality': {'Modality': 'CT', 'Manufacturer': None, 'Institution Name': None, 'Institution Address': None, 'Station Name': None, 'Operator Name': None, 'Manufacturer Model Name': None, 'Device Serial Number': None, 'Software Version(s)': None, 'Protocol Name': None}, 'study': {'Body Part Examined': 'HEAD', 'Specific Character Set': 'ISO_IR 192', 'Image Type': 'ORIGINALPRIMARYAXIALCT_SOM5 SPI', 'SOP Class UID': '1.2.840.10008.5.1.4.1.1.2', 'Study Date': '20190502', 'Acquisition Date': '20190502', 'Study Time': '073606.647000', 'Acquisition Time': '073916.305000', 'Study Description': 'CT Head', 'Referring Physician Name': None, 'Performing Physician Name': None, 'Study ID': None, 'Acquisition Number': 2, 'Requested Procedure Description': None}, 'series': {'Series Date': '20190502', 'Series Time': '073932.183000', 'Series Description': None, 'Series Instance UID': '2.25.259914270982574136244245260820376398122', 'Series Number': 2}, 'instance': {'Study Instance UID': '2.25.35760069254720387342451950708345649211', 'SOP Instance UID': '2.25.9345764094632595188893736378797587487', 'Content Date': None, 'Content Time': None, 'Derivation Description': None, 'Instance Number': 3, 'Image Position (Patient)': [-113.77734375, -306.79895592178, 21.988678187125], 'Image Orientation (Patient)': [1, 0, 0, 0, 0.98628560153723, -0.1650476058607], 'Image Comments': None}}\n"
     ]
    },
    {
     "data": {
      "text/plain": [
       "{'pacs_server': 'microsoft',\n",
       " 'ReferencedSOPClassUID': '1.2.840.10008.5.1.4.1.1.2',\n",
       " 'ReferencedSOPInstanceUID': '2.25.9345764094632595188893736378797587487',\n",
       " 'RetrieveURL': 'https://xcelsolutions-msdicom.azurewebsites.net/v1.0-prerelease/studies/2.25.35760069254720387342451950708345649211/series/2.25.259914270982574136244245260820376398122/instances/2.25.9345764094632595188893736378797587487',\n",
       " 'studyUID': '2.25.35760069254720387342451950708345649211',\n",
       " 'seriesUID': '2.25.259914270982574136244245260820376398122',\n",
       " 'instanceUID': '2.25.9345764094632595188893736378797587487',\n",
       " 'viewer_link': 'https://xcelsolutions-msdicom.azurewebsites.net/viewer/2.25.35760069254720387342451950708345649211',\n",
       " 'patient': {'Accession Number': 'GE000301',\n",
       "  'Patient Name': 'CT Head Bleed Test',\n",
       "  'Patient ID': 'GE000031',\n",
       "  'Patient Birth Date': '19490702',\n",
       "  'Patient Sex': 'M',\n",
       "  'Patient Age': None},\n",
       " 'modality': {'Modality': 'CT',\n",
       "  'Manufacturer': None,\n",
       "  'Institution Name': None,\n",
       "  'Institution Address': None,\n",
       "  'Station Name': None,\n",
       "  'Operator Name': None,\n",
       "  'Manufacturer Model Name': None,\n",
       "  'Device Serial Number': None,\n",
       "  'Software Version(s)': None,\n",
       "  'Protocol Name': None},\n",
       " 'study': {'Body Part Examined': 'HEAD',\n",
       "  'Specific Character Set': 'ISO_IR 192',\n",
       "  'Image Type': 'ORIGINALPRIMARYAXIALCT_SOM5 SPI',\n",
       "  'SOP Class UID': '1.2.840.10008.5.1.4.1.1.2',\n",
       "  'Study Date': '20190502',\n",
       "  'Acquisition Date': '20190502',\n",
       "  'Study Time': '073606.647000',\n",
       "  'Acquisition Time': '073916.305000',\n",
       "  'Study Description': 'CT Head',\n",
       "  'Referring Physician Name': None,\n",
       "  'Performing Physician Name': None,\n",
       "  'Study ID': None,\n",
       "  'Acquisition Number': 2,\n",
       "  'Requested Procedure Description': None},\n",
       " 'series': {'Series Date': '20190502',\n",
       "  'Series Time': '073932.183000',\n",
       "  'Series Description': None,\n",
       "  'Series Instance UID': '2.25.259914270982574136244245260820376398122',\n",
       "  'Series Number': 2},\n",
       " 'instance': {'Study Instance UID': '2.25.35760069254720387342451950708345649211',\n",
       "  'SOP Instance UID': '2.25.9345764094632595188893736378797587487',\n",
       "  'Content Date': None,\n",
       "  'Content Time': None,\n",
       "  'Derivation Description': None,\n",
       "  'Instance Number': 3,\n",
       "  'Image Position (Patient)': [-113.77734375,\n",
       "   -306.79895592178,\n",
       "   21.988678187125],\n",
       "  'Image Orientation (Patient)': [1,\n",
       "   0,\n",
       "   0,\n",
       "   0,\n",
       "   0.98628560153723,\n",
       "   -0.1650476058607],\n",
       "  'Image Comments': None}}"
      ]
     },
     "execution_count": 41,
     "metadata": {},
     "output_type": "execute_result"
    }
   ],
   "source": [
    "upload_preprocessing(r'C:\\Users\\user\\Desktop\\xcel\\sample_dicom\\3C8B18BD')"
   ]
  },
  {
   "cell_type": "code",
   "execution_count": null,
   "id": "51231edb",
   "metadata": {},
   "outputs": [],
   "source": []
  },
  {
   "cell_type": "code",
   "execution_count": null,
   "id": "4d65c149",
   "metadata": {},
   "outputs": [],
   "source": []
  },
  {
   "cell_type": "code",
   "execution_count": null,
   "id": "db7b718f",
   "metadata": {},
   "outputs": [],
   "source": []
  },
  {
   "cell_type": "code",
   "execution_count": null,
   "id": "24f04745",
   "metadata": {},
   "outputs": [],
   "source": [
    "def read_file(filepath):\n",
    "    with open(filepath,'rb') as reader:\n",
    "        rawfile = reader.read()\n",
    "    files = {'file': ('dicomfile', rawfile, 'application/dicom')}\n",
    "\n",
    "    return files"
   ]
  },
  {
   "cell_type": "code",
   "execution_count": null,
   "id": "0c7c8f76",
   "metadata": {},
   "outputs": [],
   "source": [
    "url = f'https://xcelsolutions-msdicom.azurewebsites.net/v1.0-prerelease/studies'\n",
    "\n",
    "filepath = r'C:\\Users\\user\\Desktop\\xcel\\sample_dicom\\F1D0C8E3'\n",
    "files = read_file(filepath)\n",
    "body, content_type = encode_multipart_related(fields = files)\n",
    "headers = {'Accept':'application/dicom+json', \"Content-Type\":content_type}\n",
    "\n",
    "client = requests.session()\n",
    "e_response = client.post(url, body, headers=headers, verify=False)"
   ]
  },
  {
   "cell_type": "code",
   "execution_count": null,
   "id": "50312294",
   "metadata": {},
   "outputs": [],
   "source": [
    "e_response.status_code"
   ]
  },
  {
   "cell_type": "code",
   "execution_count": null,
   "id": "a77a713b",
   "metadata": {},
   "outputs": [],
   "source": [
    "e_response.text"
   ]
  },
  {
   "cell_type": "code",
   "execution_count": null,
   "id": "eefe4ffa",
   "metadata": {},
   "outputs": [],
   "source": [
    "MS_failure_reasons = {\n",
    "    '272':'The store transaction did not store the instance because of a general failure in processing the operation.',\n",
    "    '43264':'The DICOM instance failed the validation.',\n",
    "    '43265':'The provided instance StudyInstanceUID did not match the specified StudyInstanceUID in the store request.',\n",
    "    '45070':'A DICOM instance with the same StudyInstanceUID, SeriesInstanceUID and SopInstanceUID has already been stored. If you wish to update the contents, delete this instance first.',\n",
    "    '45071':'A DICOM instance is being created by another process, or the previous attempt to create has failed and the cleanup process has not had chance to clean up yet. Please delete the instance first before attempting to create again.'\n",
    "    }"
   ]
  },
  {
   "cell_type": "code",
   "execution_count": null,
   "id": "18c146e2",
   "metadata": {},
   "outputs": [],
   "source": [
    "pacs_json = e_response.json()\n",
    "failure = pacs_json['00081198']['Value'][0]['00081197']['Value'][0]\n",
    "failure_reasons[str(failure)]"
   ]
  },
  {
   "cell_type": "markdown",
   "id": "bd600ba3",
   "metadata": {},
   "source": [
    "### LOCAL INSTANCE"
   ]
  },
  {
   "cell_type": "code",
   "execution_count": null,
   "id": "e7cbc40e",
   "metadata": {},
   "outputs": [],
   "source": [
    "# filepath = r'C:\\Users\\user\\Desktop\\xcel\\sample_dicom\\F1D0C8E3'\n",
    "filepath = 'https://xcelsolutiohxhwiolydg7hs.blob.core.windows.net/225ca373653fe86c950d63de23d5a21f/488365FB'\n",
    "url = f'http://localhost:11110/studies'\n",
    "headers = {\"Content-Type\": \"application/json\"}\n",
    "data = {'dcm': filepath, 'server': 'microsoft'}\n",
    "client = requests.session()\n",
    "le_response = client.post(url, json=data, headers=headers, verify=False)"
   ]
  },
  {
   "cell_type": "code",
   "execution_count": null,
   "id": "db995c3b",
   "metadata": {},
   "outputs": [],
   "source": [
    "le_response.status_code"
   ]
  },
  {
   "cell_type": "code",
   "execution_count": null,
   "id": "59e534f5",
   "metadata": {
    "scrolled": true
   },
   "outputs": [],
   "source": [
    "le_response.text"
   ]
  },
  {
   "cell_type": "markdown",
   "id": "a3b02440",
   "metadata": {},
   "source": [
    "### DCM4CHEE"
   ]
  },
  {
   "cell_type": "code",
   "execution_count": null,
   "id": "5e238da0",
   "metadata": {},
   "outputs": [],
   "source": [
    "filepath = r'C:\\Users\\user\\Desktop\\xcel\\sample_dicom\\F1D0C8E3'\n",
    "\n",
    "url = f'http://20.185.24.194:8080/dcm4chee-arc/aets/DCM4CHEE/rs/studies'\n",
    "files = read_file(filepath)\n",
    "body, content_type = encode_multipart_related(fields = files)\n",
    "headers = {'Accept':'application/dicom+xml', \"Content-Type\":content_type}\n",
    "\n",
    "client = requests.session()\n",
    "de_response = client.post(url, body, headers=headers, verify=False)"
   ]
  },
  {
   "cell_type": "code",
   "execution_count": null,
   "id": "b7716851",
   "metadata": {},
   "outputs": [],
   "source": [
    "de_response.status_code"
   ]
  },
  {
   "cell_type": "code",
   "execution_count": null,
   "id": "9cac3f46",
   "metadata": {},
   "outputs": [],
   "source": [
    "de_response.text"
   ]
  },
  {
   "cell_type": "code",
   "execution_count": null,
   "id": "00684205",
   "metadata": {},
   "outputs": [],
   "source": [
    "xml_parser = BeautifulSoup(de_response.text, 'xml')\n",
    "# pacs_json = xmltodict.parse(de_response.text)\n",
    "# pacs_json = json.dumps(pacs_json)"
   ]
  },
  {
   "cell_type": "code",
   "execution_count": null,
   "id": "34c9c504",
   "metadata": {},
   "outputs": [],
   "source": [
    "xml_parser"
   ]
  },
  {
   "cell_type": "code",
   "execution_count": null,
   "id": "3c0633f9",
   "metadata": {},
   "outputs": [],
   "source": [
    "xml_parser.find('DicomAttribute', attrs ={'keyword':\"RetrieveURL\"}).text"
   ]
  },
  {
   "cell_type": "code",
   "execution_count": null,
   "id": "1b8d5c05",
   "metadata": {},
   "outputs": [],
   "source": [
    "def extract_tags(dcm_attributes):\n",
    "    for dcmtag in dcm_attributes:\n",
    "        if dcmtag.find_all('DicomAttribute'):\n",
    "            nested_dcm = dcmtag.find_all('DicomAttribute')\n",
    "            extract_tags(nested_dcm)\n",
    "        else:\n",
    "            print(dcmtag['keyword'])\n",
    "            print(dcmtag.text)\n",
    "            print('=======================')"
   ]
  },
  {
   "cell_type": "code",
   "execution_count": null,
   "id": "7f26837a",
   "metadata": {},
   "outputs": [],
   "source": [
    "dcm_values = xml_parser.find_all('DicomAttribute')\n",
    "extract_tags (dcm_values)"
   ]
  },
  {
   "cell_type": "code",
   "execution_count": null,
   "id": "a10384fd",
   "metadata": {},
   "outputs": [],
   "source": [
    "http://20.185.24.194:8080/dcm4chee-arc/aets/DCM4CHEE/rs/studies/1.3.12.2.1107.5.1.4.59579.30000018100809225440100000001/series/1.3.12.2.1107.5.1.4.59579.30000018100809323085200001545/instances/1.3.12.2.1107.5.1.4.59579.30000018100809323085200001550\n",
    "http://20.185.24.194:8080/dcm4chee-arc/aets/DCM4CHEE/rs/studies/1.3.12.2.1107.5.1.4.59579.30000018100809225440100000001/series/1.3.12.2.1107.5.1.4.59579.30000018100809323085200001545/instances/1.3.12.2.1107.5.1.4.59579.30000018100809323085200001550"
   ]
  },
  {
   "cell_type": "markdown",
   "id": "955a7d02",
   "metadata": {},
   "source": [
    "## EXCEL API WRAPPER"
   ]
  },
  {
   "cell_type": "code",
   "execution_count": null,
   "id": "41fec226",
   "metadata": {},
   "outputs": [],
   "source": [
    "filepath = 'https://xcelsolutiohxhwiolydg7hs.blob.core.windows.net/225ca373653fe86c950d63de23d5a21f/488365FB'\n",
    "url = f'http://20.185.24.194:11124/studies'\n",
    "headers = {\"Content-Type\": \"application/json\"}\n",
    "data = {'dcm': filepath, 'server':'dcm4chee'}\n",
    "client = requests.session()\n",
    "ee_response = client.post(url, json=data, headers=headers, verify=False)"
   ]
  },
  {
   "cell_type": "code",
   "execution_count": null,
   "id": "1ad31ff9",
   "metadata": {},
   "outputs": [],
   "source": [
    "ee_response.status_code"
   ]
  },
  {
   "cell_type": "code",
   "execution_count": null,
   "id": "23dc209b",
   "metadata": {},
   "outputs": [],
   "source": [
    "ee_response.text"
   ]
  },
  {
   "cell_type": "code",
   "execution_count": null,
   "id": "6164ea6c",
   "metadata": {},
   "outputs": [],
   "source": []
  },
  {
   "cell_type": "markdown",
   "id": "feeff015",
   "metadata": {},
   "source": [
    "## RETRIEVE METADATA\n",
    "#### MSDICOM"
   ]
  },
  {
   "cell_type": "code",
   "execution_count": 1,
   "id": "ac5a0f45",
   "metadata": {},
   "outputs": [],
   "source": [
    "metadata = {\n",
    "    'patient': {'00080050': 'Accession Number',\n",
    "        '00100010': 'Patient Name',\n",
    "        '00100020': 'Patient ID',\n",
    "        '00100030': 'Patient Birth Date',\n",
    "        '00100040': 'Patient Sex',\n",
    "        '00101010': 'Patient Age'},\n",
    "\n",
    "    'modality': { '00080060': 'Modality',\n",
    "                '00080070': 'Manufacturer',\n",
    "                '00080080': 'Institution Name',\n",
    "                '00080081': 'Institution Address',\n",
    "                '00081010': 'Station Name',\n",
    "                '00081070': 'Operator Name',\n",
    "                '00081090': 'Manufacturer Model Name',\n",
    "                '00181000': 'Device Serial Number',\n",
    "                '00181020': 'Software Version(s)',\n",
    "                '00181030': 'Protocol Name'},\n",
    "\n",
    "    'study': {'00180015': 'Body Part Examined',\n",
    "            '00080005': 'Specific Character Set',\n",
    "            '00080008': 'Image Type',\n",
    "            '00080016': 'SOP Class UID',\n",
    "            '00080020': 'Study Date',\n",
    "            '00080022': 'Acquisition Date',\n",
    "            '00080030': 'Study Time',\n",
    "            '00080032': 'Acquisition Time',\n",
    "            '00081030': 'Study Description',\n",
    "            '00080090': 'Referring Physician Name',\n",
    "            '00081050': 'Performing Physician Name',\n",
    "            '00200010': 'Study ID',\n",
    "            '00200012': 'Acquisition Number',\n",
    "            '00321060': 'Requested Procedure Description'},\n",
    "\n",
    "    'series': {'00080021': 'Series Date',\n",
    "            '00080031': 'Series Time',\n",
    "            '0008103E': 'Series Description',\n",
    "            '0020000E': 'Series Instance UID',\n",
    "            '00200011': 'Series Number'},\n",
    "\n",
    "    'instance': {'0020000D': 'Study Instance UID',\n",
    "                '00080018': 'SOP Instance UID',\n",
    "                '00080023': 'Content Date',\n",
    "                '00080033': 'Content Time',\n",
    "                '00082111': 'Derivation Description',\n",
    "                '00200013': 'Instance Number',\n",
    "                '00200032': 'Image Position (Patient)',\n",
    "                '00200037': 'Image Orientation (Patient)',\n",
    "                '00204000': 'Image Comments'}\n",
    "}\n",
    "\n",
    "META_REF = {}\n",
    "for group in metadata:\n",
    "    META_REF.update(metadata[group])"
   ]
  },
  {
   "cell_type": "code",
   "execution_count": 2,
   "id": "0fe2eb43",
   "metadata": {},
   "outputs": [],
   "source": [
    "def destructure_metadata(meta_value):\n",
    "    destructured_meta = ''\n",
    "    \n",
    "    for val in meta_value:\n",
    "        if type(val) == str: destructured_meta = destructured_meta + val\n",
    "        elif type(val) == dict: destructured_meta = destructured_meta + val['Alphabetic']\n",
    "        else: \n",
    "            if len(meta_value) == 1: destructured_meta = val\n",
    "            else: destructured_meta = meta_value\n",
    "            break\n",
    "#     print(meta_value, '<= destructured =>', destructured_meta)\n",
    "    return destructured_meta"
   ]
  },
  {
   "cell_type": "code",
   "execution_count": null,
   "id": "ebd4a745",
   "metadata": {},
   "outputs": [],
   "source": [
    "study_uid = '1.3.6.1.4.1.29565.1.4.2990501591.11236.1638352530.205'\n",
    "\n",
    "url = f'https://xcelsolutions-msdicom.azurewebsites.net/v1.0-prerelease/studies/{study_uid}/metadata'\n",
    "headers = {\"Accept\": \"application/dicom+json\"}\n",
    "client = requests.session()\n",
    "m_response = client.get(url, headers=headers, verify=False)"
   ]
  },
  {
   "cell_type": "code",
   "execution_count": null,
   "id": "9a42f6b9",
   "metadata": {
    "scrolled": true
   },
   "outputs": [],
   "source": [
    "m_response.json()"
   ]
  },
  {
   "cell_type": "code",
   "execution_count": null,
   "id": "e0ffe240",
   "metadata": {
    "scrolled": true
   },
   "outputs": [],
   "source": [
    "pacs_json = m_response.json()[0]\n",
    "payload = {}\n",
    "for metadata_key in metadata:\n",
    "    payload[metadata_key] = {}\n",
    "    #print('INFO: extracting ', metadata_key)\n",
    "    for metadata_field in metadata[metadata_key]:\n",
    "        #print('INFO: extracting ', metadata_field)\n",
    "        if metadata_field in pacs_json:\n",
    "            root = pacs_json[metadata_field]\n",
    "            payload[metadata_key][META_REF[metadata_field]] = destructure_metadata(root['Value']) if 'Value' in root else None\n",
    "        else:\n",
    "            payload[metadata_key][META_REF[metadata_field]] = None"
   ]
  },
  {
   "cell_type": "code",
   "execution_count": null,
   "id": "d157a9ac",
   "metadata": {},
   "outputs": [],
   "source": [
    "payload"
   ]
  },
  {
   "cell_type": "markdown",
   "id": "31f3d314",
   "metadata": {},
   "source": [
    "### LOCAL INSTANCE"
   ]
  },
  {
   "cell_type": "code",
   "execution_count": null,
   "id": "ebc667ca",
   "metadata": {},
   "outputs": [],
   "source": [
    "study_uid = '1.3.6.1.4.1.29565.1.4.2990501591.3728.1637337268.505'\n",
    "# study_uid = '1.3.12.2.1107.5.1.4.59579.30000018100809225440100000001'\n",
    "\n",
    "url = f'http://localhost:11110/studies/{study_uid}'\n",
    "headers = {\"Content-Type\": \"application/json\"}\n",
    "# headers = {\"Content-Type\": \"application/dicom+xml\"}\n",
    "# data = {'server': 'microsoft'}\n",
    "client = requests.session()\n",
    "# lm_response = client.get(url, json=data, headers=headers, verify=False)\n",
    "lm_response = client.get(url, headers=headers, verify=False)"
   ]
  },
  {
   "cell_type": "code",
   "execution_count": null,
   "id": "bd8e0efe",
   "metadata": {},
   "outputs": [],
   "source": [
    "lm_response.text"
   ]
  },
  {
   "cell_type": "code",
   "execution_count": null,
   "id": "ae8f72e0",
   "metadata": {},
   "outputs": [],
   "source": [
    "if not None: print(\"yay\")"
   ]
  },
  {
   "cell_type": "markdown",
   "id": "a5169295",
   "metadata": {},
   "source": [
    "### DCM4CHEE"
   ]
  },
  {
   "cell_type": "code",
   "execution_count": null,
   "id": "34e44345",
   "metadata": {},
   "outputs": [],
   "source": [
    "study_uid = r'1.3.12.2.1107.5.1.4.59579.30000018100809225440100000001'\n",
    "\n",
    "url = f'http://20.185.24.194:8080/dcm4chee-arc/aets/DCM4CHEE/rs/studies/{study_uid}/metadata'\n",
    "headers = {\"Content-Type\": \"application/dicom+xml\"}\n",
    "\n",
    "client = requests.session()\n",
    "dm_response = client.get(url, headers=headers, verify=False)"
   ]
  },
  {
   "cell_type": "code",
   "execution_count": null,
   "id": "650a1184",
   "metadata": {},
   "outputs": [],
   "source": [
    "dm_response"
   ]
  },
  {
   "cell_type": "code",
   "execution_count": null,
   "id": "c77ba3fe",
   "metadata": {},
   "outputs": [],
   "source": [
    "dm_response.text"
   ]
  },
  {
   "cell_type": "code",
   "execution_count": null,
   "id": "7cc3bd50",
   "metadata": {},
   "outputs": [],
   "source": [
    "pacs_json = dm_response.json()[0]\n",
    "payload = {}\n",
    "for metadata_key in metadata:\n",
    "    payload[metadata_key] = {}\n",
    "    #print('INFO: extracting ', metadata_key)\n",
    "    for metadata_field in metadata[metadata_key]:\n",
    "        #print('INFO: extracting ', metadata_field)\n",
    "        if metadata_field in pacs_json:\n",
    "            root = pacs_json[metadata_field]\n",
    "            payload[metadata_key][META_REF[metadata_field]] = destructure_metadata(root['Value']) if 'Value' in root else None\n",
    "        else:\n",
    "            payload[metadata_key][META_REF[metadata_field]] = None"
   ]
  },
  {
   "cell_type": "code",
   "execution_count": null,
   "id": "5083c63d",
   "metadata": {},
   "outputs": [],
   "source": [
    "payload"
   ]
  },
  {
   "cell_type": "markdown",
   "id": "f3606959",
   "metadata": {},
   "source": [
    "## GET ALL STUDIES\n",
    "### MS DICOM"
   ]
  },
  {
   "cell_type": "code",
   "execution_count": null,
   "id": "db7cd1e5",
   "metadata": {},
   "outputs": [],
   "source": [
    "url = f'https://xcelsolutions-msdicom.azurewebsites.net/v1.0-prerelease/studies'\n",
    "headers = {\"Accept\": \"application/dicom+json\"}\n",
    "client = requests.session()\n",
    "s_response = client.get(url, headers=headers, verify=False)"
   ]
  },
  {
   "cell_type": "code",
   "execution_count": null,
   "id": "6f995763",
   "metadata": {},
   "outputs": [],
   "source": [
    "s_response.json()"
   ]
  },
  {
   "cell_type": "code",
   "execution_count": 8,
   "id": "75ffb986",
   "metadata": {},
   "outputs": [],
   "source": [
    "meta_keys = {'00080020': 'Study Date',\n",
    "  '00080030': 'Study Time',\n",
    "  '00080050': 'Ascension Number',\n",
    "  '00080090': 'Referring Physician Name',\n",
    "  '00100010': 'Patient Name',\n",
    "  '00100020': 'Patient ID',\n",
    "  '00100030': 'Patient Birth Date',\n",
    "  '00100040': 'Patient Sex',\n",
    "  '0020000D': 'Study Instance UID',\n",
    "  '00200010': 'Study ID'\n",
    "}\n",
    "\n",
    "#the following are returned by DCM4CHEE API as well\n",
    "# ,\"00080054\":{\"vr\":\"AE\",\"Value\":[\"DCM4CHEE\"]},\n",
    "#  \"00080056\":{\"vr\":\"CS\",\"Value\":[\"ONLINE\"]},\n",
    "#  \"00080061\":{\"vr\":\"CS\",\"Value\":[\"MR\"]},\n",
    "# \"00081190\":{\"vr\":\"UR\",\"Value\":[\"http://20.185.24.194:8080/dcm4chee-arc/aets/DCM4CHEE/rs/studies/1.113654.3.13.1026\"]},\n",
    "# \"00201206\":{\"vr\":\"IS\",\"Value\":[\"1\"]},\n",
    "#  \"00201208\":{\"vr\":\"IS\",\"Value\":[\"16\"]}},"
   ]
  },
  {
   "cell_type": "code",
   "execution_count": null,
   "id": "a2401da1",
   "metadata": {},
   "outputs": [],
   "source": [
    "pacs_json= s_response.json()\n",
    "payload_list = []\n",
    "\n",
    "for study_json in pacs_json:\n",
    "    payload = {}\n",
    "    for metadata_key in meta_keys:\n",
    "        if metadata_key in study_json:\n",
    "            root = study_json[metadata_key]\n",
    "            payload[meta_keys[metadata_key]] = destructure_metadata(root['Value']) if 'Value' in root else None\n",
    "        else:\n",
    "            payload[meta_keys[metadata_key]]= None\n",
    "    payload_list.append(payload)\n",
    "\n",
    "print(payload_list)"
   ]
  },
  {
   "cell_type": "markdown",
   "id": "3e7adf70",
   "metadata": {},
   "source": [
    "### LOCAL INSTANCE"
   ]
  },
  {
   "cell_type": "code",
   "execution_count": null,
   "id": "73244990",
   "metadata": {},
   "outputs": [],
   "source": [
    "url = f'http://localhost:11110/studies'\n",
    "headers = {\"Content-Type\": \"application/json\"}\n",
    "data = {'server': 'microsft'}\n",
    "client = requests.session()\n",
    "ls_response = client.get(url, json=data, headers=headers, verify=False)\n",
    "\n",
    "# ls_response = client.get(url, headers=headers, verify=False)"
   ]
  },
  {
   "cell_type": "code",
   "execution_count": null,
   "id": "8120aa5a",
   "metadata": {},
   "outputs": [],
   "source": [
    "ls_response.text"
   ]
  },
  {
   "cell_type": "code",
   "execution_count": null,
   "id": "a086339d",
   "metadata": {},
   "outputs": [],
   "source": [
    "url = f'http://20.185.24.194:11124/studies'\n",
    "headers = {\"Content-Type\": \"application/json\"}\n",
    "data = {'server': 'microsft'}\n",
    "client = requests.session()\n",
    "ss_response = client.get(url, json=data, headers=headers, verify=False)"
   ]
  },
  {
   "cell_type": "code",
   "execution_count": null,
   "id": "1db71ea4",
   "metadata": {},
   "outputs": [],
   "source": [
    "ss_response.text"
   ]
  },
  {
   "cell_type": "markdown",
   "id": "f95badce",
   "metadata": {},
   "source": [
    "### DCM4CHEE"
   ]
  },
  {
   "cell_type": "code",
   "execution_count": 4,
   "id": "3864b095",
   "metadata": {},
   "outputs": [],
   "source": [
    "url = f'http://20.185.24.194:8080/dcm4chee-arc/aets/DCM4CHEE/rs/studies'\n",
    "headers = {\"Content-Type\": \"application/dicom+xml\"}\n",
    "\n",
    "client = requests.session()\n",
    "ds_response = client.get(url, headers=headers, verify=False)"
   ]
  },
  {
   "cell_type": "code",
   "execution_count": 5,
   "id": "99997df1",
   "metadata": {},
   "outputs": [
    {
     "data": {
      "text/plain": [
       "<Response [200]>"
      ]
     },
     "execution_count": 5,
     "metadata": {},
     "output_type": "execute_result"
    }
   ],
   "source": [
    "ds_response"
   ]
  },
  {
   "cell_type": "code",
   "execution_count": 6,
   "id": "d80d8ba7",
   "metadata": {},
   "outputs": [
    {
     "data": {
      "text/plain": [
       "'[{\"00080020\":{\"vr\":\"DA\",\"Value\":[\"19941013\"]},\"00080030\":{\"vr\":\"TM\",\"Value\":[\"141917\"]},\"00080050\":{\"vr\":\"SH\"},\"00080054\":{\"vr\":\"AE\",\"Value\":[\"DCM4CHEE\"]},\"00080056\":{\"vr\":\"CS\",\"Value\":[\"ONLINE\"]},\"00080061\":{\"vr\":\"CS\",\"Value\":[\"XA\"]},\"00080090\":{\"vr\":\"PN\"},\"00081190\":{\"vr\":\"UR\",\"Value\":[\"http://20.185.24.194:8080/dcm4chee-arc/aets/DCM4CHEE/rs/studies/1.3.12.2.1107.5.4.3.123456789012345.19950922.121803.6\"]},\"00100010\":{\"vr\":\"PN\",\"Value\":[{\"Alphabetic\":\"Rubo DEMO\"}]},\"00100020\":{\"vr\":\"LO\",\"Value\":[\"556342B\"]},\"00100030\":{\"vr\":\"DA\",\"Value\":[\"19951025\"]},\"00100040\":{\"vr\":\"CS\",\"Value\":[\"M\"]},\"0020000D\":{\"vr\":\"UI\",\"Value\":[\"1.3.12.2.1107.5.4.3.123456789012345.19950922.121803.6\"]},\"00200010\":{\"vr\":\"SH\"},\"00201206\":{\"vr\":\"IS\",\"Value\":[\"1\"]},\"00201208\":{\"vr\":\"IS\",\"Value\":[\"1\"]}},{\"00080005\":{\"vr\":\"CS\",\"Value\":[\"ISO_IR 100\"]},\"00080020\":{\"vr\":\"DA\",\"Value\":[\"20211201\"]},\"00080030\":{\"vr\":\"TM\",\"Value\":[\"120312\"]},\"00080050\":{\"vr\":\"SH\",\"Value\":[\"1913510\"]},\"00080054\":{\"vr\":\"AE\",\"Value\":[\"DCM4CHEE\"]},\"00080056\":{\"vr\":\"CS\",\"Value\":[\"ONLINE\"]},\"00080061\":{\"vr\":\"CS\",\"Value\":[\"DOC\"]},\"00080090\":{\"vr\":\"PN\"},\"00081190\":{\"vr\":\"UR\",\"Value\":[\"http://20.185.24.194:8080/dcm4chee-arc/aets/DCM4CHEE/rs/studies/123456\"]},\"00100010\":{\"vr\":\"PN\",\"Value\":[{\"Alphabetic\":\"Oba^Abi\"}]},\"00100020\":{\"vr\":\"LO\",\"Value\":[\"XCel001\"]},\"00100030\":{\"vr\":\"DA\",\"Value\":[\"19901201\"]},\"00100040\":{\"vr\":\"CS\",\"Value\":[\"M\"]},\"0020000D\":{\"vr\":\"UI\",\"Value\":[\"123456\"]},\"00200010\":{\"vr\":\"SH\"},\"00201206\":{\"vr\":\"IS\",\"Value\":[\"2\"]},\"00201208\":{\"vr\":\"IS\",\"Value\":[\"2\"]}},{\"00080005\":{\"vr\":\"CS\",\"Value\":[\"ISO_IR 100\"]},\"00080020\":{\"vr\":\"DA\",\"Value\":[\"20211201\"]},\"00080030\":{\"vr\":\"TM\",\"Value\":[\"144142\"]},\"00080050\":{\"vr\":\"SH\",\"Value\":[\"3144932\"]},\"00080054\":{\"vr\":\"AE\",\"Value\":[\"DCM4CHEE\"]},\"00080056\":{\"vr\":\"CS\",\"Value\":[\"ONLINE\"]},\"00080061\":{\"vr\":\"CS\",\"Value\":[\"DOC\"]},\"00080090\":{\"vr\":\"PN\"},\"00081190\":{\"vr\":\"UR\",\"Value\":[\"http://20.185.24.194:8080/dcm4chee-arc/aets/DCM4CHEE/rs/studies/1.3.6.1.4.1.29565.1.4.2990501591.7124.1638366102.698\"]},\"00100010\":{\"vr\":\"PN\",\"Value\":[{\"Alphabetic\":\"Abbey^Test^Test\"}]},\"00100020\":{\"vr\":\"LO\",\"Value\":[\"30/2179\"]},\"00100030\":{\"vr\":\"DA\",\"Value\":[\"20000825\"]},\"00100040\":{\"vr\":\"CS\",\"Value\":[\"M\"]},\"0020000D\":{\"vr\":\"UI\",\"Value\":[\"1.3.6.1.4.1.29565.1.4.2990501591.7124.1638366102.698\"]},\"00200010\":{\"vr\":\"SH\"},\"00201206\":{\"vr\":\"IS\",\"Value\":[\"1\"]},\"00201208\":{\"vr\":\"IS\",\"Value\":[\"1\"]}},{\"00080020\":{\"vr\":\"DA\",\"Value\":[\"20210816\"]},\"00080030\":{\"vr\":\"TM\",\"Value\":[\"122736\"]},\"00080050\":{\"vr\":\"SH\",\"Value\":[\"90\"]},\"00080054\":{\"vr\":\"AE\",\"Value\":[\"DCM4CHEE\"]},\"00080056\":{\"vr\":\"CS\",\"Value\":[\"ONLINE\"]},\"00080061\":{\"vr\":\"CS\",\"Value\":[\"MR\"]},\"00080090\":{\"vr\":\"PN\",\"Value\":[{\"Alphabetic\":\"DR. LESSENBERRY^BARRET\"}]},\"00081190\":{\"vr\":\"UR\",\"Value\":[\"http://20.185.24.194:8080/dcm4chee-arc/aets/DCM4CHEE/rs/studies/1.2.392.200036.9123.100.12.11.12680.202108162121743\"]},\"00100010\":{\"vr\":\"PN\",\"Value\":[{\"Alphabetic\":\"IDUKPAYE^ULOMA\"}]},\"00100020\":{\"vr\":\"LO\",\"Value\":[\"90\"]},\"00100030\":{\"vr\":\"DA\"},\"00100040\":{\"vr\":\"CS\",\"Value\":[\"F\"]},\"0020000D\":{\"vr\":\"UI\",\"Value\":[\"1.2.392.200036.9123.100.12.11.12680.202108162121743\"]},\"00200010\":{\"vr\":\"SH\",\"Value\":[\"202108162\"]},\"00201206\":{\"vr\":\"IS\",\"Value\":[\"16\"]},\"00201208\":{\"vr\":\"IS\",\"Value\":[\"206\"]}},{\"00080020\":{\"vr\":\"DA\",\"Value\":[\"1989.02.03\"]},\"00080030\":{\"vr\":\"TM\",\"Value\":[\"09:26:18\"]},\"00080054\":{\"vr\":\"AE\",\"Value\":[\"DCM4CHEE\"]},\"00080056\":{\"vr\":\"CS\",\"Value\":[\"ONLINE\"]},\"00080061\":{\"vr\":\"CS\",\"Value\":[\"MR\"]},\"00080090\":{\"vr\":\"PN\",\"Value\":[{\"Alphabetic\":\"Anonymized\"}]},\"00081190\":{\"vr\":\"UR\",\"Value\":[\"http://20.185.24.194:8080/dcm4chee-arc/aets/DCM4CHEE/rs/studies/1.2.840.113619.2.1.2.139348932.602501178\"]},\"00100010\":{\"vr\":\"PN\",\"Value\":[{\"Alphabetic\":\"Anonymized\"}]},\"00100020\":{\"vr\":\"LO\",\"Value\":[\"P-00000010\"]},\"0020000D\":{\"vr\":\"UI\",\"Value\":[\"1.2.840.113619.2.1.2.139348932.602501178\"]},\"00201206\":{\"vr\":\"IS\",\"Value\":[\"1\"]},\"00201208\":{\"vr\":\"IS\",\"Value\":[\"1\"]}}]'"
      ]
     },
     "execution_count": 6,
     "metadata": {},
     "output_type": "execute_result"
    }
   ],
   "source": [
    "ds_response.text"
   ]
  },
  {
   "cell_type": "code",
   "execution_count": 9,
   "id": "6195a268",
   "metadata": {},
   "outputs": [
    {
     "name": "stdout",
     "output_type": "stream",
     "text": [
      "[{'Study Date': '19941013', 'Study Time': '141917', 'Ascension Number': None, 'Referring Physician Name': None, 'Patient Name': 'Rubo DEMO', 'Patient ID': '556342B', 'Patient Birth Date': '19951025', 'Patient Sex': 'M', 'Study Instance UID': '1.3.12.2.1107.5.4.3.123456789012345.19950922.121803.6', 'Study ID': None}, {'Study Date': '20211201', 'Study Time': '120312', 'Ascension Number': '1913510', 'Referring Physician Name': None, 'Patient Name': 'Oba^Abi', 'Patient ID': 'XCel001', 'Patient Birth Date': '19901201', 'Patient Sex': 'M', 'Study Instance UID': '123456', 'Study ID': None}, {'Study Date': '20211201', 'Study Time': '144142', 'Ascension Number': '3144932', 'Referring Physician Name': None, 'Patient Name': 'Abbey^Test^Test', 'Patient ID': '30/2179', 'Patient Birth Date': '20000825', 'Patient Sex': 'M', 'Study Instance UID': '1.3.6.1.4.1.29565.1.4.2990501591.7124.1638366102.698', 'Study ID': None}, {'Study Date': '20210816', 'Study Time': '122736', 'Ascension Number': '90', 'Referring Physician Name': 'DR. LESSENBERRY^BARRET', 'Patient Name': 'IDUKPAYE^ULOMA', 'Patient ID': '90', 'Patient Birth Date': None, 'Patient Sex': 'F', 'Study Instance UID': '1.2.392.200036.9123.100.12.11.12680.202108162121743', 'Study ID': '202108162'}, {'Study Date': '1989.02.03', 'Study Time': '09:26:18', 'Ascension Number': None, 'Referring Physician Name': 'Anonymized', 'Patient Name': 'Anonymized', 'Patient ID': 'P-00000010', 'Patient Birth Date': None, 'Patient Sex': None, 'Study Instance UID': '1.2.840.113619.2.1.2.139348932.602501178', 'Study ID': None}]\n"
     ]
    }
   ],
   "source": [
    "pacs_json= ds_response.json()\n",
    "payload_list = []\n",
    "\n",
    "for study_json in pacs_json:\n",
    "    payload = {}\n",
    "    for metadata_key in meta_keys:\n",
    "        if metadata_key in study_json:\n",
    "            root = study_json[metadata_key]\n",
    "            payload[meta_keys[metadata_key]] = destructure_metadata(root['Value']) if 'Value' in root else None\n",
    "        else:\n",
    "            payload[meta_keys[metadata_key]]= None\n",
    "    payload_list.append(payload)\n",
    "\n",
    "print(payload_list)"
   ]
  },
  {
   "cell_type": "markdown",
   "id": "1d655478",
   "metadata": {},
   "source": [
    "## DELETE STUDY\n",
    "### MS DICOM"
   ]
  },
  {
   "cell_type": "code",
   "execution_count": null,
   "id": "76f2ba20",
   "metadata": {},
   "outputs": [],
   "source": [
    "study_uid = '2.25.35760069254720387342451950708345649211'\n",
    "\n",
    "url = f'https://xcelsolutions-msdicom.azurewebsites.net/v1.0-prerelease/studies/{study_uid}'\n",
    "client = requests.session()\n",
    "d_response = client.delete(url)"
   ]
  },
  {
   "cell_type": "code",
   "execution_count": null,
   "id": "41981470",
   "metadata": {},
   "outputs": [],
   "source": [
    "d_response.text"
   ]
  },
  {
   "cell_type": "markdown",
   "id": "04f266c2",
   "metadata": {},
   "source": [
    "### LOCAL INSTANCE"
   ]
  },
  {
   "cell_type": "code",
   "execution_count": null,
   "id": "7c91ba01",
   "metadata": {},
   "outputs": [],
   "source": [
    "study_uid = '1.3.12.2.1107.5.1.4.59579.30000018100809225440100000001'\n",
    "# study_uid = '1.3.12.2.1107.5.1.4.59579.30000018100809225440100000001'\n",
    "\n",
    "url = f'http://localhost:11110/studies/{study_uid}'\n",
    "headers = {\"Content-Type\": \"application/json\"}\n",
    "data = {'server': 'microsoft'}\n",
    "client = requests.session()\n",
    "ld_response = client.delete(url, json=data, headers=headers, verify=False)\n",
    "# ld_response = client.delete(url, headers=headers, verify=False)"
   ]
  },
  {
   "cell_type": "code",
   "execution_count": null,
   "id": "62c2b1b8",
   "metadata": {},
   "outputs": [],
   "source": [
    "ld_response.text"
   ]
  },
  {
   "cell_type": "markdown",
   "id": "042f4b35",
   "metadata": {},
   "source": [
    "### DCM4CHEE"
   ]
  },
  {
   "cell_type": "code",
   "execution_count": 10,
   "id": "e3bbf173",
   "metadata": {},
   "outputs": [
    {
     "name": "stdout",
     "output_type": "stream",
     "text": [
      "<Response [200]>\n",
      "{\"count\":1}\n"
     ]
    }
   ],
   "source": [
    "study_uid = r'1.2.826.0.1.3680043.8.1055.1.20111103112244831.40200514.30965937'\n",
    "\n",
    "url = f'http://20.185.24.194:8080/dcm4chee-arc/aets/DCM4CHEE/rs/studies/{study_uid}/reject/113039%5EDCM'\n",
    "headers = {\"Content-Type\": \"application/json\"}\n",
    "body = {}\n",
    "client = requests.session()\n",
    "dd_response = client.post(url, body, headers=headers, verify=False)\n",
    "\n",
    "print(dd_response)\n",
    "print(dd_response.text)"
   ]
  },
  {
   "cell_type": "code",
   "execution_count": null,
   "id": "d9cf79a2",
   "metadata": {},
   "outputs": [],
   "source": [
    "dd_response"
   ]
  },
  {
   "cell_type": "code",
   "execution_count": null,
   "id": "b6da9a88",
   "metadata": {},
   "outputs": [],
   "source": [
    "dd_response.text"
   ]
  },
  {
   "cell_type": "markdown",
   "id": "448618f0",
   "metadata": {},
   "source": [
    "# DOWNLOAD STUDY"
   ]
  },
  {
   "cell_type": "code",
   "execution_count": null,
   "id": "68a59cf2",
   "metadata": {},
   "outputs": [],
   "source": [
    "import requests\n",
    "import shutil\n",
    "\n",
    "def download_file(url):\n",
    "    local_filename = url.split('/')[-1]\n",
    "    with requests.get(url, stream=True) as r:\n",
    "        with open(local_filename, 'wb') as f:\n",
    "            shutil.copyfileobj(r.raw, f)\n",
    "\n",
    "    return local_filename"
   ]
  },
  {
   "cell_type": "markdown",
   "id": "f7f1ca16",
   "metadata": {},
   "source": [
    "## MS DICOM"
   ]
  },
  {
   "cell_type": "code",
   "execution_count": null,
   "id": "5eec2cad",
   "metadata": {},
   "outputs": [],
   "source": [
    "import requests_toolbelt as tb\n",
    "from io import BytesIO\n",
    "from pydicom import dcmread\n",
    "import shutil"
   ]
  },
  {
   "cell_type": "code",
   "execution_count": null,
   "id": "8ec3703d",
   "metadata": {},
   "outputs": [],
   "source": [
    "def download_file(url):\n",
    "    local_filename = url.split('/')[-1]\n",
    "    with requests.get(url, stream=True) as r:\n",
    "        with open(local_filename, 'wb') as f:\n",
    "            shutil.copyfileobj(r.raw, f)\n",
    "\n",
    "    return local_filename\n",
    "\n",
    "\n",
    "for chunk in r.iter_content(chunk_size=1024): \n",
    "            if chunk: # filter out keep-alive new chunks\n",
    "                f.write(chunk)"
   ]
  },
  {
   "cell_type": "code",
   "execution_count": null,
   "id": "69c54135",
   "metadata": {},
   "outputs": [],
   "source": [
    "study_uid = '2.25.35760069254720387342451950708345649211'\n",
    "url = f'https://xcelsolutions-msdicom.azurewebsites.net/v1.0-prerelease/studies/{study_uid}'\n",
    "headers = {'Accept':'multipart/related; type=\"application/dicom\"; transfer-syntax=*'}\n",
    "\n",
    "filename = 'dcmfile.dcm'\n",
    "client = requests.session()\n",
    "\n",
    "with client.get(url, headers=headers, stream=True) as l_response:\n",
    "#     printl_response.raise_for_status()\n",
    "    with open(filename, 'wb') as flwriter:\n",
    "        print('writing')\n",
    "        for chunk in l_response.iter_content(chunk_size=1024):\n",
    "            if chunk:\n",
    "                print('chunking =>')\n",
    "#                 mpd = tb.MultipartDecoder.from_response(l_response)\n",
    "#                 print(len(mpd.parts))\n",
    "                flwriter.write(chunk)\n",
    "                \n",
    "            \n",
    "#         mpd = tb.MultipartDecoder.from_response(l_response)\n",
    "#         print(len(mpd.parts))\n",
    "#         shutil.copyfileobj(l_response.raw, flwriter)\n",
    "        \n",
    "# # l_response = client.get(url, headers=headers)\n",
    "# l_response"
   ]
  },
  {
   "cell_type": "code",
   "execution_count": null,
   "id": "b36886af",
   "metadata": {},
   "outputs": [],
   "source": [
    "help(mpd)"
   ]
  },
  {
   "cell_type": "code",
   "execution_count": null,
   "id": "7f61d4a9",
   "metadata": {},
   "outputs": [],
   "source": [
    "mpd = tb.MultipartDecoder.from_response(l_response)\n",
    "# print(mpd)\n",
    "i=0\n",
    "for part in mpd.parts:\n",
    "    # Note that the headers are returned as binary!\n",
    "    print(part.headers[b'content-type'])\n",
    "    \n",
    "    # You can convert the binary body (of each part) into a pydicom DataSet\n",
    "    #   And get direct access to the various underlying fields\n",
    "    dcm = dcmread(BytesIO(part.content))\n",
    "    i = i+1\n",
    "    dcm.save_as(f'file{str(i)}.dcm')\n",
    "    print(dcm.PatientName)\n",
    "    print(dcm.SOPInstanceUID)"
   ]
  },
  {
   "cell_type": "markdown",
   "id": "da218dd0",
   "metadata": {},
   "source": [
    "## DCM4CHEE"
   ]
  },
  {
   "cell_type": "code",
   "execution_count": null,
   "id": "3f2dd790",
   "metadata": {},
   "outputs": [],
   "source": [
    "study_uid = '1.3.12.2.1107.5.1.4.59579.30000018100809225440100000001'\n",
    "url = f'http://20.185.24.194:8080/dcm4chee-arc/aets/DCM4CHEE/rs/studies/{study_uid}'\n",
    "headers = {'Accept':'multipart/related; type=\"application/dicom\"; transfer-syntax=*'}\n",
    "\n",
    "client = requests.session()\n",
    "\n",
    "dl_response = client.get(url, headers=headers) #, verify=False)\n",
    "dl_response"
   ]
  },
  {
   "cell_type": "code",
   "execution_count": null,
   "id": "fedb3e9c",
   "metadata": {},
   "outputs": [],
   "source": [
    "dl_response.content"
   ]
  },
  {
   "cell_type": "code",
   "execution_count": null,
   "id": "eacdcf0f",
   "metadata": {},
   "outputs": [],
   "source": [
    "mpd = tb.MultipartDecoder.from_response(dl_response)\n",
    "# print(mpd)\n",
    "i=0\n",
    "for part in mpd.parts:\n",
    "    # Note that the headers are returned as binary!\n",
    "    print(part.headers[b'content-type'])\n",
    "    \n",
    "    # You can convert the binary body (of each part) into a pydicom DataSet\n",
    "    #   And get direct access to the various underlying fields\n",
    "    dcm = dcmread(BytesIO(part.content))\n",
    "    i = i+1\n",
    "    dcm.save_as(f'file{str(i)}.dcm')\n",
    "    print(dcm.PatientName)\n",
    "    print(dcm.SOPInstanceUID)"
   ]
  },
  {
   "cell_type": "code",
   "execution_count": null,
   "id": "4583f929",
   "metadata": {},
   "outputs": [],
   "source": []
  },
  {
   "cell_type": "markdown",
   "id": "946e8c7a",
   "metadata": {},
   "source": [
    "## DELETE ALL"
   ]
  },
  {
   "cell_type": "markdown",
   "id": "7758e526",
   "metadata": {},
   "source": [
    "## MS DICOM"
   ]
  },
  {
   "cell_type": "code",
   "execution_count": null,
   "id": "033c6684",
   "metadata": {},
   "outputs": [],
   "source": [
    "url = f'https://xcelsolutions-msdicom.azurewebsites.net/v1.0-prerelease/studies'\n",
    "headers = {\"Accept\": \"application/dicom+json\"}\n",
    "client = requests.session()\n",
    "da_response = client.get(url, headers=headers, verify=False)"
   ]
  },
  {
   "cell_type": "code",
   "execution_count": null,
   "id": "eda46cb7",
   "metadata": {},
   "outputs": [],
   "source": [
    "da_response"
   ]
  },
  {
   "cell_type": "code",
   "execution_count": null,
   "id": "00b53038",
   "metadata": {},
   "outputs": [],
   "source": [
    "da_response.text"
   ]
  },
  {
   "cell_type": "code",
   "execution_count": null,
   "id": "5101b04c",
   "metadata": {},
   "outputs": [],
   "source": [
    "pacs_json= da_response.json()\n",
    "payload_list = []\n",
    "\n",
    "for study_json in pacs_json:\n",
    "    study_uid =study_json['0020000D']['Value'][0]\n",
    "    print(\"deleting ...\", study_uid)\n",
    "    url = f'https://xcelsolutions-msdicom.azurewebsites.net/v1.0-prerelease/studies/{study_uid}'\n",
    "    client = requests.session()\n",
    "    d_response = client.delete(url)\n",
    "    if d_response.status_code == 204:\n",
    "        print('successfully deleted')\n",
    "    else:\n",
    "        print(d_response.text)"
   ]
  },
  {
   "cell_type": "markdown",
   "id": "7c692ffd",
   "metadata": {},
   "source": [
    "## DCM4CHEE"
   ]
  },
  {
   "cell_type": "code",
   "execution_count": 21,
   "id": "12d72bba",
   "metadata": {},
   "outputs": [],
   "source": [
    "url = f'http://20.185.24.194:8080/dcm4chee-arc/aets/DCM4CHEE/rs/studies'\n",
    "headers = {\"Content-Type\": \"application/dicom+xml\"}\n",
    "\n",
    "client = requests.session()\n",
    "ds_response = client.get(url, headers=headers, verify=False)"
   ]
  },
  {
   "cell_type": "code",
   "execution_count": 22,
   "id": "aaddf161",
   "metadata": {},
   "outputs": [
    {
     "data": {
      "text/plain": [
       "<Response [200]>"
      ]
     },
     "execution_count": 22,
     "metadata": {},
     "output_type": "execute_result"
    }
   ],
   "source": [
    "ds_response"
   ]
  },
  {
   "cell_type": "code",
   "execution_count": 23,
   "id": "101e5e26",
   "metadata": {},
   "outputs": [
    {
     "data": {
      "text/plain": [
       "'[{\"00080005\":{\"vr\":\"CS\",\"Value\":[\"ISO_IR 100\"]},\"00080020\":{\"vr\":\"DA\",\"Value\":[\"20211201\"]},\"00080030\":{\"vr\":\"TM\",\"Value\":[\"120312\"]},\"00080050\":{\"vr\":\"SH\",\"Value\":[\"1913510\"]},\"00080054\":{\"vr\":\"AE\",\"Value\":[\"DCM4CHEE\"]},\"00080056\":{\"vr\":\"CS\",\"Value\":[\"ONLINE\"]},\"00080061\":{\"vr\":\"CS\",\"Value\":[\"DOC\"]},\"00080090\":{\"vr\":\"PN\"},\"00081190\":{\"vr\":\"UR\",\"Value\":[\"http://20.185.24.194:8080/dcm4chee-arc/aets/DCM4CHEE/rs/studies/123456\"]},\"00100010\":{\"vr\":\"PN\",\"Value\":[{\"Alphabetic\":\"Oba^Abi\"}]},\"00100020\":{\"vr\":\"LO\",\"Value\":[\"XCel001\"]},\"00100030\":{\"vr\":\"DA\",\"Value\":[\"19901201\"]},\"00100040\":{\"vr\":\"CS\",\"Value\":[\"M\"]},\"0020000D\":{\"vr\":\"UI\",\"Value\":[\"123456\"]},\"00200010\":{\"vr\":\"SH\"},\"00201206\":{\"vr\":\"IS\",\"Value\":[\"2\"]},\"00201208\":{\"vr\":\"IS\",\"Value\":[\"2\"]}},{\"00080005\":{\"vr\":\"CS\",\"Value\":[\"ISO_IR 100\"]},\"00080020\":{\"vr\":\"DA\",\"Value\":[\"20211201\"]},\"00080030\":{\"vr\":\"TM\",\"Value\":[\"144142\"]},\"00080050\":{\"vr\":\"SH\",\"Value\":[\"3144932\"]},\"00080054\":{\"vr\":\"AE\",\"Value\":[\"DCM4CHEE\"]},\"00080056\":{\"vr\":\"CS\",\"Value\":[\"ONLINE\"]},\"00080061\":{\"vr\":\"CS\",\"Value\":[\"DOC\"]},\"00080090\":{\"vr\":\"PN\"},\"00081190\":{\"vr\":\"UR\",\"Value\":[\"http://20.185.24.194:8080/dcm4chee-arc/aets/DCM4CHEE/rs/studies/1.3.6.1.4.1.29565.1.4.2990501591.7124.1638366102.698\"]},\"00100010\":{\"vr\":\"PN\",\"Value\":[{\"Alphabetic\":\"Abbey^Test^Test\"}]},\"00100020\":{\"vr\":\"LO\",\"Value\":[\"30/2179\"]},\"00100030\":{\"vr\":\"DA\",\"Value\":[\"20000825\"]},\"00100040\":{\"vr\":\"CS\",\"Value\":[\"M\"]},\"0020000D\":{\"vr\":\"UI\",\"Value\":[\"1.3.6.1.4.1.29565.1.4.2990501591.7124.1638366102.698\"]},\"00200010\":{\"vr\":\"SH\"},\"00201206\":{\"vr\":\"IS\",\"Value\":[\"1\"]},\"00201208\":{\"vr\":\"IS\",\"Value\":[\"1\"]}},{\"00080020\":{\"vr\":\"DA\",\"Value\":[\"20210816\"]},\"00080030\":{\"vr\":\"TM\",\"Value\":[\"122736\"]},\"00080050\":{\"vr\":\"SH\",\"Value\":[\"90\"]},\"00080054\":{\"vr\":\"AE\",\"Value\":[\"DCM4CHEE\"]},\"00080056\":{\"vr\":\"CS\",\"Value\":[\"ONLINE\"]},\"00080061\":{\"vr\":\"CS\",\"Value\":[\"MR\"]},\"00080090\":{\"vr\":\"PN\",\"Value\":[{\"Alphabetic\":\"DR. LESSENBERRY^BARRET\"}]},\"00081190\":{\"vr\":\"UR\",\"Value\":[\"http://20.185.24.194:8080/dcm4chee-arc/aets/DCM4CHEE/rs/studies/1.2.392.200036.9123.100.12.11.12680.202108162121743\"]},\"00100010\":{\"vr\":\"PN\",\"Value\":[{\"Alphabetic\":\"IDUKPAYE^ULOMA\"}]},\"00100020\":{\"vr\":\"LO\",\"Value\":[\"90\"]},\"00100030\":{\"vr\":\"DA\"},\"00100040\":{\"vr\":\"CS\",\"Value\":[\"F\"]},\"0020000D\":{\"vr\":\"UI\",\"Value\":[\"1.2.392.200036.9123.100.12.11.12680.202108162121743\"]},\"00200010\":{\"vr\":\"SH\",\"Value\":[\"202108162\"]},\"00201206\":{\"vr\":\"IS\",\"Value\":[\"16\"]},\"00201208\":{\"vr\":\"IS\",\"Value\":[\"206\"]}}]'"
      ]
     },
     "execution_count": 23,
     "metadata": {},
     "output_type": "execute_result"
    }
   ],
   "source": [
    "ds_response.text"
   ]
  },
  {
   "cell_type": "code",
   "execution_count": 24,
   "id": "53eefa8f",
   "metadata": {},
   "outputs": [
    {
     "name": "stdout",
     "output_type": "stream",
     "text": [
      "deleting ... 123456\n",
      "successfully deleted\n",
      "deleting ... 1.3.6.1.4.1.29565.1.4.2990501591.7124.1638366102.698\n",
      "successfully deleted\n",
      "deleting ... 1.2.392.200036.9123.100.12.11.12680.202108162121743\n",
      "successfully deleted\n"
     ]
    }
   ],
   "source": [
    "pacs_json= ds_response.json()\n",
    "payload_list = []\n",
    "\n",
    "for study_json in pacs_json:\n",
    "    study_uid =study_json['0020000D']['Value'][0]\n",
    "    print(\"deleting ...\", study_uid)\n",
    "    \n",
    "    url = f'http://20.185.24.194:8080/dcm4chee-arc/aets/DCM4CHEE/rs/studies/{study_uid}/reject/113039%5EDCM'\n",
    "    headers = {\"Content-Type\": \"application/json\"}\n",
    "    body = {}\n",
    "    client = requests.session()\n",
    "    dd_response = client.post(url, body, headers=headers, verify=False)\n",
    "\n",
    "    if dd_response.status_code == 200:\n",
    "        print('successfully deleted')\n",
    "    else:\n",
    "        print(dd_response.text)"
   ]
  },
  {
   "cell_type": "code",
   "execution_count": null,
   "id": "aabd39c0",
   "metadata": {},
   "outputs": [],
   "source": []
  }
 ],
 "metadata": {
  "kernelspec": {
   "display_name": "Python 3",
   "language": "python",
   "name": "python3"
  },
  "language_info": {
   "codemirror_mode": {
    "name": "ipython",
    "version": 3
   },
   "file_extension": ".py",
   "mimetype": "text/x-python",
   "name": "python",
   "nbconvert_exporter": "python",
   "pygments_lexer": "ipython3",
   "version": "3.8.8"
  }
 },
 "nbformat": 4,
 "nbformat_minor": 5
}
